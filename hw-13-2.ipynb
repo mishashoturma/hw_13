{
 "cells": [
  {
   "cell_type": "code",
   "execution_count": 1,
   "id": "def99cbc",
   "metadata": {
    "execution": {
     "iopub.execute_input": "2024-12-09T18:27:03.258707Z",
     "iopub.status.busy": "2024-12-09T18:27:03.258403Z",
     "iopub.status.idle": "2024-12-09T18:27:18.277938Z",
     "shell.execute_reply": "2024-12-09T18:27:18.276920Z"
    },
    "papermill": {
     "duration": 15.025607,
     "end_time": "2024-12-09T18:27:18.280049",
     "exception": false,
     "start_time": "2024-12-09T18:27:03.254442",
     "status": "completed"
    },
    "tags": []
   },
   "outputs": [
    {
     "name": "stdout",
     "output_type": "stream",
     "text": [
      "Downloading data from https://storage.googleapis.com/tensorflow/tf-keras-datasets/train-labels-idx1-ubyte.gz\n",
      "\u001b[1m29515/29515\u001b[0m \u001b[32m━━━━━━━━━━━━━━━━━━━━\u001b[0m\u001b[37m\u001b[0m \u001b[1m0s\u001b[0m 0us/step\n",
      "Downloading data from https://storage.googleapis.com/tensorflow/tf-keras-datasets/train-images-idx3-ubyte.gz\n",
      "\u001b[1m26421880/26421880\u001b[0m \u001b[32m━━━━━━━━━━━━━━━━━━━━\u001b[0m\u001b[37m\u001b[0m \u001b[1m1s\u001b[0m 0us/step\n",
      "Downloading data from https://storage.googleapis.com/tensorflow/tf-keras-datasets/t10k-labels-idx1-ubyte.gz\n",
      "\u001b[1m5148/5148\u001b[0m \u001b[32m━━━━━━━━━━━━━━━━━━━━\u001b[0m\u001b[37m\u001b[0m \u001b[1m0s\u001b[0m 0us/step\n",
      "Downloading data from https://storage.googleapis.com/tensorflow/tf-keras-datasets/t10k-images-idx3-ubyte.gz\n",
      "\u001b[1m4422102/4422102\u001b[0m \u001b[32m━━━━━━━━━━━━━━━━━━━━\u001b[0m\u001b[37m\u001b[0m \u001b[1m1s\u001b[0m 0us/step\n"
     ]
    }
   ],
   "source": [
    "from tensorflow.keras.utils import to_categorical\n",
    "from keras import layers\n",
    "import numpy as np\n",
    "import pandas as pd\n",
    "import tensorflow as tf\n",
    "from keras.datasets import fashion_mnist\n",
    "from keras import models\n",
    "\n",
    "\n",
    "(train_images, train_labels), (test_images, test_labels) = fashion_mnist.load_data()"
   ]
  },
  {
   "cell_type": "code",
   "execution_count": 2,
   "id": "63453c4a",
   "metadata": {
    "execution": {
     "iopub.execute_input": "2024-12-09T18:27:18.290516Z",
     "iopub.status.busy": "2024-12-09T18:27:18.290031Z",
     "iopub.status.idle": "2024-12-09T18:27:18.378281Z",
     "shell.execute_reply": "2024-12-09T18:27:18.377213Z"
    },
    "papermill": {
     "duration": 0.095578,
     "end_time": "2024-12-09T18:27:18.380483",
     "exception": false,
     "start_time": "2024-12-09T18:27:18.284905",
     "status": "completed"
    },
    "tags": []
   },
   "outputs": [],
   "source": [
    "train_images = train_images.reshape((60000, 28, 28, 1))\n",
    "test_images = test_images.reshape((10000, 28, 28, 1))\n",
    "\n",
    "train_images = train_images.astype('float32') / 255\n",
    "test_images = test_images.astype('float32') / 255\n",
    "\n",
    "train_labels = to_categorical(train_labels)\n",
    "test_labels = to_categorical(test_labels)"
   ]
  },
  {
   "cell_type": "code",
   "execution_count": 3,
   "id": "bb2656cd",
   "metadata": {
    "execution": {
     "iopub.execute_input": "2024-12-09T18:27:18.391046Z",
     "iopub.status.busy": "2024-12-09T18:27:18.390725Z",
     "iopub.status.idle": "2024-12-09T18:27:19.308382Z",
     "shell.execute_reply": "2024-12-09T18:27:19.307452Z"
    },
    "papermill": {
     "duration": 0.924821,
     "end_time": "2024-12-09T18:27:19.310242",
     "exception": false,
     "start_time": "2024-12-09T18:27:18.385421",
     "status": "completed"
    },
    "tags": []
   },
   "outputs": [
    {
     "name": "stderr",
     "output_type": "stream",
     "text": [
      "/opt/conda/lib/python3.10/site-packages/keras/src/layers/convolutional/base_conv.py:107: UserWarning: Do not pass an `input_shape`/`input_dim` argument to a layer. When using Sequential models, prefer using an `Input(shape)` object as the first layer in the model instead.\n",
      "  super().__init__(activity_regularizer=activity_regularizer, **kwargs)\n"
     ]
    }
   ],
   "source": [
    "model = models.Sequential([\n",
    "    layers.Conv2D(32, (3, 3), activation='relu', input_shape=(28, 28, 1)),\n",
    "    layers.MaxPooling2D((2, 2)),\n",
    "\n",
    "    layers.Conv2D(64, (3, 3), activation='relu', padding='same'),\n",
    "    layers.MaxPooling2D((2, 2)),\n",
    "\n",
    "    layers.Conv2D(128, (3, 3), activation='relu', padding='same'),\n",
    "    layers.MaxPooling2D((2, 2)),\n",
    "\n",
    "    layers.Conv2D(128, (3, 3), activation='relu', padding='same'),\n",
    "    layers.MaxPooling2D((2, 2)),\n",
    "\n",
    "    layers.Flatten(),\n",
    "    layers.Dense(64, activation='relu'),\n",
    "    layers.Dropout(0.3),\n",
    "    layers.Dense(10, activation='softmax')\n",
    "])"
   ]
  },
  {
   "cell_type": "code",
   "execution_count": 4,
   "id": "9b00e6e0",
   "metadata": {
    "execution": {
     "iopub.execute_input": "2024-12-09T18:27:19.319885Z",
     "iopub.status.busy": "2024-12-09T18:27:19.319638Z",
     "iopub.status.idle": "2024-12-09T18:27:19.331412Z",
     "shell.execute_reply": "2024-12-09T18:27:19.330807Z"
    },
    "papermill": {
     "duration": 0.018354,
     "end_time": "2024-12-09T18:27:19.332989",
     "exception": false,
     "start_time": "2024-12-09T18:27:19.314635",
     "status": "completed"
    },
    "tags": []
   },
   "outputs": [],
   "source": [
    "model.compile(\n",
    "    optimizer=tf.keras.optimizers.Adam(learning_rate=0.001),\n",
    "    loss='categorical_crossentropy',\n",
    "    metrics=['accuracy'])"
   ]
  },
  {
   "cell_type": "code",
   "execution_count": 5,
   "id": "d1b6a292",
   "metadata": {
    "execution": {
     "iopub.execute_input": "2024-12-09T18:27:19.343417Z",
     "iopub.status.busy": "2024-12-09T18:27:19.343186Z",
     "iopub.status.idle": "2024-12-09T18:28:12.462859Z",
     "shell.execute_reply": "2024-12-09T18:28:12.462094Z"
    },
    "papermill": {
     "duration": 53.126276,
     "end_time": "2024-12-09T18:28:12.464632",
     "exception": false,
     "start_time": "2024-12-09T18:27:19.338356",
     "status": "completed"
    },
    "tags": []
   },
   "outputs": [
    {
     "name": "stdout",
     "output_type": "stream",
     "text": [
      "Epoch 1/20\n"
     ]
    },
    {
     "name": "stderr",
     "output_type": "stream",
     "text": [
      "WARNING: All log messages before absl::InitializeLog() is called are written to STDERR\n",
      "I0000 00:00:1733768841.349458      68 service.cc:145] XLA service 0x78677c007680 initialized for platform CUDA (this does not guarantee that XLA will be used). Devices:\n",
      "I0000 00:00:1733768841.349513      68 service.cc:153]   StreamExecutor device (0): Tesla T4, Compute Capability 7.5\n",
      "I0000 00:00:1733768841.349519      68 service.cc:153]   StreamExecutor device (1): Tesla T4, Compute Capability 7.5\n"
     ]
    },
    {
     "name": "stdout",
     "output_type": "stream",
     "text": [
      "\u001b[1m 39/469\u001b[0m \u001b[32m━\u001b[0m\u001b[37m━━━━━━━━━━━━━━━━━━━\u001b[0m \u001b[1m1s\u001b[0m 4ms/step - accuracy: 0.3039 - loss: 1.9395"
     ]
    },
    {
     "name": "stderr",
     "output_type": "stream",
     "text": [
      "I0000 00:00:1733768845.485776      68 device_compiler.h:188] Compiled cluster using XLA!  This line is logged at most once for the lifetime of the process.\n"
     ]
    },
    {
     "name": "stdout",
     "output_type": "stream",
     "text": [
      "\u001b[1m469/469\u001b[0m \u001b[32m━━━━━━━━━━━━━━━━━━━━\u001b[0m\u001b[37m\u001b[0m \u001b[1m11s\u001b[0m 12ms/step - accuracy: 0.6363 - loss: 0.9889 - val_accuracy: 0.8483 - val_loss: 0.4228\n",
      "Epoch 2/20\n",
      "\u001b[1m469/469\u001b[0m \u001b[32m━━━━━━━━━━━━━━━━━━━━\u001b[0m\u001b[37m\u001b[0m \u001b[1m2s\u001b[0m 4ms/step - accuracy: 0.8460 - loss: 0.4274 - val_accuracy: 0.8754 - val_loss: 0.3399\n",
      "Epoch 3/20\n",
      "\u001b[1m469/469\u001b[0m \u001b[32m━━━━━━━━━━━━━━━━━━━━\u001b[0m\u001b[37m\u001b[0m \u001b[1m2s\u001b[0m 4ms/step - accuracy: 0.8787 - loss: 0.3417 - val_accuracy: 0.8778 - val_loss: 0.3403\n",
      "Epoch 4/20\n",
      "\u001b[1m469/469\u001b[0m \u001b[32m━━━━━━━━━━━━━━━━━━━━\u001b[0m\u001b[37m\u001b[0m \u001b[1m2s\u001b[0m 4ms/step - accuracy: 0.8956 - loss: 0.2909 - val_accuracy: 0.8956 - val_loss: 0.2833\n",
      "Epoch 5/20\n",
      "\u001b[1m469/469\u001b[0m \u001b[32m━━━━━━━━━━━━━━━━━━━━\u001b[0m\u001b[37m\u001b[0m \u001b[1m2s\u001b[0m 5ms/step - accuracy: 0.9057 - loss: 0.2595 - val_accuracy: 0.9087 - val_loss: 0.2500\n",
      "Epoch 6/20\n",
      "\u001b[1m469/469\u001b[0m \u001b[32m━━━━━━━━━━━━━━━━━━━━\u001b[0m\u001b[37m\u001b[0m \u001b[1m2s\u001b[0m 5ms/step - accuracy: 0.9148 - loss: 0.2345 - val_accuracy: 0.9041 - val_loss: 0.2549\n",
      "Epoch 7/20\n",
      "\u001b[1m469/469\u001b[0m \u001b[32m━━━━━━━━━━━━━━━━━━━━\u001b[0m\u001b[37m\u001b[0m \u001b[1m2s\u001b[0m 5ms/step - accuracy: 0.9246 - loss: 0.2094 - val_accuracy: 0.8967 - val_loss: 0.2881\n",
      "Epoch 8/20\n",
      "\u001b[1m469/469\u001b[0m \u001b[32m━━━━━━━━━━━━━━━━━━━━\u001b[0m\u001b[37m\u001b[0m \u001b[1m2s\u001b[0m 5ms/step - accuracy: 0.9289 - loss: 0.1984 - val_accuracy: 0.9151 - val_loss: 0.2366\n",
      "Epoch 9/20\n",
      "\u001b[1m469/469\u001b[0m \u001b[32m━━━━━━━━━━━━━━━━━━━━\u001b[0m\u001b[37m\u001b[0m \u001b[1m2s\u001b[0m 5ms/step - accuracy: 0.9354 - loss: 0.1794 - val_accuracy: 0.9100 - val_loss: 0.2506\n",
      "Epoch 10/20\n",
      "\u001b[1m469/469\u001b[0m \u001b[32m━━━━━━━━━━━━━━━━━━━━\u001b[0m\u001b[37m\u001b[0m \u001b[1m2s\u001b[0m 5ms/step - accuracy: 0.9378 - loss: 0.1691 - val_accuracy: 0.9146 - val_loss: 0.2413\n",
      "Epoch 11/20\n",
      "\u001b[1m469/469\u001b[0m \u001b[32m━━━━━━━━━━━━━━━━━━━━\u001b[0m\u001b[37m\u001b[0m \u001b[1m2s\u001b[0m 5ms/step - accuracy: 0.9426 - loss: 0.1569 - val_accuracy: 0.9158 - val_loss: 0.2373\n",
      "Epoch 12/20\n",
      "\u001b[1m469/469\u001b[0m \u001b[32m━━━━━━━━━━━━━━━━━━━━\u001b[0m\u001b[37m\u001b[0m \u001b[1m2s\u001b[0m 5ms/step - accuracy: 0.9462 - loss: 0.1433 - val_accuracy: 0.9186 - val_loss: 0.2473\n",
      "Epoch 13/20\n",
      "\u001b[1m469/469\u001b[0m \u001b[32m━━━━━━━━━━━━━━━━━━━━\u001b[0m\u001b[37m\u001b[0m \u001b[1m2s\u001b[0m 5ms/step - accuracy: 0.9518 - loss: 0.1306 - val_accuracy: 0.9188 - val_loss: 0.2589\n",
      "Epoch 14/20\n",
      "\u001b[1m469/469\u001b[0m \u001b[32m━━━━━━━━━━━━━━━━━━━━\u001b[0m\u001b[37m\u001b[0m \u001b[1m2s\u001b[0m 5ms/step - accuracy: 0.9581 - loss: 0.1139 - val_accuracy: 0.9195 - val_loss: 0.2653\n",
      "Epoch 15/20\n",
      "\u001b[1m469/469\u001b[0m \u001b[32m━━━━━━━━━━━━━━━━━━━━\u001b[0m\u001b[37m\u001b[0m \u001b[1m2s\u001b[0m 5ms/step - accuracy: 0.9620 - loss: 0.1038 - val_accuracy: 0.9231 - val_loss: 0.2421\n",
      "Epoch 16/20\n",
      "\u001b[1m469/469\u001b[0m \u001b[32m━━━━━━━━━━━━━━━━━━━━\u001b[0m\u001b[37m\u001b[0m \u001b[1m2s\u001b[0m 5ms/step - accuracy: 0.9651 - loss: 0.0936 - val_accuracy: 0.9214 - val_loss: 0.2917\n",
      "Epoch 17/20\n",
      "\u001b[1m469/469\u001b[0m \u001b[32m━━━━━━━━━━━━━━━━━━━━\u001b[0m\u001b[37m\u001b[0m \u001b[1m2s\u001b[0m 5ms/step - accuracy: 0.9657 - loss: 0.0904 - val_accuracy: 0.9216 - val_loss: 0.2867\n",
      "Epoch 18/20\n",
      "\u001b[1m469/469\u001b[0m \u001b[32m━━━━━━━━━━━━━━━━━━━━\u001b[0m\u001b[37m\u001b[0m \u001b[1m2s\u001b[0m 5ms/step - accuracy: 0.9683 - loss: 0.0827 - val_accuracy: 0.9190 - val_loss: 0.3064\n",
      "Epoch 19/20\n",
      "\u001b[1m469/469\u001b[0m \u001b[32m━━━━━━━━━━━━━━━━━━━━\u001b[0m\u001b[37m\u001b[0m \u001b[1m2s\u001b[0m 5ms/step - accuracy: 0.9717 - loss: 0.0731 - val_accuracy: 0.9203 - val_loss: 0.3360\n",
      "Epoch 20/20\n",
      "\u001b[1m469/469\u001b[0m \u001b[32m━━━━━━━━━━━━━━━━━━━━\u001b[0m\u001b[37m\u001b[0m \u001b[1m2s\u001b[0m 5ms/step - accuracy: 0.9743 - loss: 0.0676 - val_accuracy: 0.9157 - val_loss: 0.3400\n"
     ]
    }
   ],
   "source": [
    "history = model.fit(train_images, train_labels, epochs=20, batch_size=128, validation_data=(test_images, test_labels))"
   ]
  },
  {
   "cell_type": "code",
   "execution_count": 6,
   "id": "9c95e652",
   "metadata": {
    "execution": {
     "iopub.execute_input": "2024-12-09T18:28:12.549168Z",
     "iopub.status.busy": "2024-12-09T18:28:12.548779Z",
     "iopub.status.idle": "2024-12-09T18:28:13.269687Z",
     "shell.execute_reply": "2024-12-09T18:28:13.268753Z"
    },
    "papermill": {
     "duration": 0.764455,
     "end_time": "2024-12-09T18:28:13.271601",
     "exception": false,
     "start_time": "2024-12-09T18:28:12.507146",
     "status": "completed"
    },
    "tags": []
   },
   "outputs": [
    {
     "data": {
      "image/png": "[encoded data removed]",
      "text/plain": [
       "<Figure size 640x480 with 1 Axes>"
      ]
     },
     "metadata": {},
     "output_type": "display_data"
    },
    {
     "data": {
      "image/png": "[encoded data removed]",
      "text/plain": [
       "<Figure size 640x480 with 1 Axes>"
      ]
     },
     "metadata": {},
     "output_type": "display_data"
    }
   ],
   "source": [
    "import matplotlib.pyplot as plt\n",
    "\n",
    "acc = history.history[\"accuracy\"]\n",
    "val_acc = history.history[\"val_accuracy\"]\n",
    "loss = history.history[\"loss\"]\n",
    "val_loss = history.history[\"val_loss\"]\n",
    "\n",
    "epochs = range(1, len(acc) + 1)\n",
    "\n",
    "plt.plot(epochs, acc, \"bo\", label=\"Training acc\")\n",
    "plt.plot(epochs, val_acc, \"b\", label=\"Validation acc\")\n",
    "plt.title(\"Training and validation accuracy\")\n",
    "plt.legend()\n",
    "plt.figure()\n",
    "plt.plot(epochs, loss, \"bo\", label=\"Training loss\")\n",
    "plt.plot(epochs, val_loss, \"b\", label=\"Validation loss\")\n",
    "plt.title(\"Training and validation loss\")\n",
    "plt.legend()\n",
    "plt.show()"
   ]
  },
  {
   "cell_type": "code",
   "execution_count": 7,
   "id": "7f6769ff",
   "metadata": {
    "execution": {
     "iopub.execute_input": "2024-12-09T18:28:13.357418Z",
     "iopub.status.busy": "2024-12-09T18:28:13.356690Z",
     "iopub.status.idle": "2024-12-09T18:28:14.455399Z",
     "shell.execute_reply": "2024-12-09T18:28:14.454408Z"
    },
    "papermill": {
     "duration": 1.142599,
     "end_time": "2024-12-09T18:28:14.457138",
     "exception": false,
     "start_time": "2024-12-09T18:28:13.314539",
     "status": "completed"
    },
    "tags": []
   },
   "outputs": [
    {
     "name": "stdout",
     "output_type": "stream",
     "text": [
      "\u001b[1m313/313\u001b[0m \u001b[32m━━━━━━━━━━━━━━━━━━━━\u001b[0m\u001b[37m\u001b[0m \u001b[1m1s\u001b[0m 1ms/step - accuracy: 0.9145 - loss: 0.3439\n",
      "0.9157000184059143\n"
     ]
    }
   ],
   "source": [
    "test_loss, test_acc = model.evaluate(test_images, test_labels)\n",
    "print(test_acc)"
   ]
  },
  {
   "cell_type": "code",
   "execution_count": 8,
   "id": "76bd2e9b",
   "metadata": {
    "execution": {
     "iopub.execute_input": "2024-12-09T18:28:14.540118Z",
     "iopub.status.busy": "2024-12-09T18:28:14.539799Z",
     "iopub.status.idle": "2024-12-09T18:28:14.599676Z",
     "shell.execute_reply": "2024-12-09T18:28:14.598764Z"
    },
    "papermill": {
     "duration": 0.103425,
     "end_time": "2024-12-09T18:28:14.601488",
     "exception": false,
     "start_time": "2024-12-09T18:28:14.498063",
     "status": "completed"
    },
    "tags": []
   },
   "outputs": [],
   "source": [
    "model.save('SimpleRNN.keras')"
   ]
  },
  {
   "cell_type": "code",
   "execution_count": 9,
   "id": "b4d8666c",
   "metadata": {
    "execution": {
     "iopub.execute_input": "2024-12-09T18:28:14.683415Z",
     "iopub.status.busy": "2024-12-09T18:28:14.683134Z",
     "iopub.status.idle": "2024-12-09T18:28:14.687785Z",
     "shell.execute_reply": "2024-12-09T18:28:14.686949Z"
    },
    "papermill": {
     "duration": 0.046981,
     "end_time": "2024-12-09T18:28:14.689527",
     "exception": false,
     "start_time": "2024-12-09T18:28:14.642546",
     "status": "completed"
    },
    "tags": []
   },
   "outputs": [],
   "source": [
    "import json\n",
    "\n",
    "with open('history_SimpleRNN.json', 'w') as f:\n",
    "    json.dump(history.history, f)\n"
   ]
  },
  {
   "cell_type": "code",
   "execution_count": null,
   "id": "6f474c44",
   "metadata": {
    "papermill": {
     "duration": 0.040099,
     "end_time": "2024-12-09T18:28:14.770268",
     "exception": false,
     "start_time": "2024-12-09T18:28:14.730169",
     "status": "completed"
    },
    "tags": []
   },
   "outputs": [],
   "source": []
  }
 ],
 "metadata": {
  "kaggle": {
   "accelerator": "nvidiaTeslaT4",
   "dataSources": [],
   "dockerImageVersionId": 30805,
   "isGpuEnabled": true,
   "isInternetEnabled": true,
   "language": "python",
   "sourceType": "notebook"
  },
  "kernelspec": {
   "display_name": "Python 3",
   "language": "python",
   "name": "python3"
  },
  "language_info": {
   "codemirror_mode": {
    "name": "ipython",
    "version": 3
   },
   "file_extension": ".py",
   "mimetype": "text/x-python",
   "name": "python",
   "nbconvert_exporter": "python",
   "pygments_lexer": "ipython3",
   "version": "3.10.14"
  },
  "papermill": {
   "default_parameters": {},
   "duration": 76.699909,
   "end_time": "2024-12-09T18:28:17.538395",
   "environment_variables": {},
   "exception": null,
   "input_path": "__notebook__.ipynb",
   "output_path": "__notebook__.ipynb",
   "parameters": {},
   "start_time": "2024-12-09T18:27:00.838486",
   "version": "2.6.0"
  }
 },
 "nbformat": 4,
 "nbformat_minor": 5
}
